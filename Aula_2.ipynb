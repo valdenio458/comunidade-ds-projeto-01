{
  "nbformat": 4,
  "nbformat_minor": 0,
  "metadata": {
    "colab": {
      "provenance": []
    },
    "kernelspec": {
      "name": "python3",
      "display_name": "Python 3"
    },
    "language_info": {
      "name": "python"
    }
  },
  "cells": [
    {
      "cell_type": "markdown",
      "source": [
        "## Importando os dados"
      ],
      "metadata": {
        "id": "N_a6xQiR5keG"
      }
    },
    {
      "cell_type": "code",
      "execution_count": 2,
      "metadata": {
        "id": "HCGIBh9O4ZFq"
      },
      "outputs": [],
      "source": [
        "# abrir a conexão com o banco de dados\n",
        "import sqlite3\n",
        "import pandas as pd\n",
        "conn = sqlite3.connect(\"database.db\")"
      ]
    },
    {
      "cell_type": "code",
      "source": [
        "# consulta os dados no banco de dados\n",
        "consulta_atividade = \"SELECT * FROM flight_activity\"\n",
        "df_atividade = pd.read_sql_query(consulta_atividade, conn)"
      ],
      "metadata": {
        "id": "GRhzRma45qAM"
      },
      "execution_count": 21,
      "outputs": []
    },
    {
      "cell_type": "code",
      "source": [
        "df_atividade.head()"
      ],
      "metadata": {
        "id": "i5e9V28U7T2p"
      },
      "execution_count": null,
      "outputs": []
    },
    {
      "cell_type": "markdown",
      "source": [
        "## JOIN"
      ],
      "metadata": {
        "id": "HBoU1cUS12dw"
      }
    },
    {
      "cell_type": "code",
      "source": [
        "consulta_atividade = \"\"\"\n",
        "  SELECT\n",
        "    fh.loyalty_number,\n",
        "    fh.country,\n",
        "    fh.city,\n",
        "    fa.year,\n",
        "    fa.month,\n",
        "    fa.flights_booked\n",
        "\n",
        "  FROM\n",
        "    flight_loyalty_history fh JOIN flight_activity fa ON (fh.loyalty_number = fa.loyalty_number)\n",
        "\n",
        "\n",
        "\"\"\"\n",
        "df_atividade = pd.read_sql_query(consulta_atividade, conn)\n",
        "df_atividade.head()"
      ],
      "metadata": {
        "id": "V-LIJMHj8pN4"
      },
      "execution_count": null,
      "outputs": []
    },
    {
      "cell_type": "code",
      "source": [
        "df_atividade.info()"
      ],
      "metadata": {
        "id": "tNhcpYBI7XPl"
      },
      "execution_count": null,
      "outputs": []
    },
    {
      "cell_type": "code",
      "source": [
        "df_atividade.shape"
      ],
      "metadata": {
        "id": "59Ajnsum7-rH"
      },
      "execution_count": null,
      "outputs": []
    },
    {
      "cell_type": "markdown",
      "source": [
        "## Exercícios da Aula 02"
      ],
      "metadata": {
        "id": "UNzDuZ8h2FCm"
      }
    },
    {
      "cell_type": "code",
      "source": [
        "# EXERCÍCIO 1\n",
        "# selecionar o número do cartão de fidelidade, a cidade e o\n",
        "# gênero dos passageiros que tem o cartão Star mas nunca realizaram\n",
        "# nenhuma viagem\n",
        "consulta_atividade = \"\"\"\n",
        "\n",
        "     SELECT\n",
        "      fa.loyalty_number,\n",
        "      fa.distance,\n",
        "      fh.city,\n",
        "      fh.gender,\n",
        "      fh.loyalty_card\n",
        "     FROM\n",
        "      flight_activity fa LEFT JOIN flight_loyalty_history fh ON (fh.loyalty_number = fa.loyalty_number)\n",
        "     WHERE\n",
        "        loyalty_card == 'Star' AND distance == 0\n",
        "     \"\"\"\n",
        "df_atividade = pd.read_sql_query(consulta_atividade, conn)\n",
        "df_atividade"
      ],
      "metadata": {
        "id": "pskgcsQG2JeJ"
      },
      "execution_count": null,
      "outputs": []
    },
    {
      "cell_type": "code",
      "source": [
        "# EXERCÌCIO 2\n",
        "# selecionar os números do cartão de fidelidade, o gênero e a cidade de todos os\n",
        "# passageiros do sexo feminino que moram na cidade de Toronto, fizeram mais de 30\n",
        "# viagens no total e tem o cartão de fidelidade do tipo Aurora.\n",
        "consulta_atividade = \"\"\"\n",
        "\n",
        "     SELECT\n",
        "      fa.loyalty_number,\n",
        "      fh.gender,\n",
        "      fh.city,\n",
        "      fa.total_flights,\n",
        "      fh.loyalty_card\n",
        "     FROM\n",
        "      flight_activity fa LEFT JOIN flight_loyalty_history fh\n",
        "      ON (fh.loyalty_number = fa.loyalty_number)\n",
        "     WHERE\n",
        "        gender == 'Female'\n",
        "        AND city == 'Toronto'\n",
        "        AND total_flights == 30\n",
        "        AND loyalty_card == 'Aurora'\n",
        "     \"\"\"\n",
        "df_atividade = pd.read_sql_query(consulta_atividade, conn)\n",
        "df_atividade"
      ],
      "metadata": {
        "id": "GnauN8gN8rrl"
      },
      "execution_count": null,
      "outputs": []
    },
    {
      "cell_type": "code",
      "source": [
        "# EXERCÌCIO 3\n",
        "# Selecionar os números do cartão de fidelidade, o tipo do cartão, o gênero e os\n",
        "# pontos acumulados, dos passageiros com salário acima de 13200, estado civil como\n",
        "# casado e nível acadêmico como mestrado e número de voos agendados igual ao\n",
        "# número total de voos.\n",
        "consulta_atividade = \"\"\"\n",
        "\n",
        "     SELECT\n",
        "      fa.loyalty_number,\n",
        "      fh.loyalty_card,\n",
        "      fh.gender,\n",
        "      fa.points_accumulated\n",
        "\n",
        "     FROM\n",
        "      flight_activity fa LEFT JOIN flight_loyalty_history fh\n",
        "      ON (fh.loyalty_number = fa.loyalty_number)\n",
        "     WHERE\n",
        "        salary > 13200\n",
        "        AND marital_status == 'Married'\n",
        "        AND education == 'Master'\n",
        "        AND flights_booked = total_flights\n",
        "     \"\"\"\n",
        "df_atividade = pd.read_sql_query(consulta_atividade, conn)\n",
        "df_atividade"
      ],
      "metadata": {
        "id": "m_j_D9jPn2fA"
      },
      "execution_count": null,
      "outputs": []
    },
    {
      "cell_type": "code",
      "source": [
        "# EXERCÌCIO 4\n",
        "# Qual o valor da soma total da distância percorrida pelos voos registrados na\n",
        "# planilha de dados?\n",
        "\n",
        "df_atividade.loc[:, 'distance'].sum()"
      ],
      "metadata": {
        "colab": {
          "base_uri": "https://localhost:8080/"
        },
        "id": "nNbkqGH5q-Wx",
        "outputId": "237541eb-3adb-42f0-a3eb-03ce94967039"
      },
      "execution_count": 22,
      "outputs": [
        {
          "output_type": "execute_result",
          "data": {
            "text/plain": [
              "490350765"
            ]
          },
          "metadata": {},
          "execution_count": 22
        }
      ]
    },
    {
      "cell_type": "code",
      "source": [
        "# EXERCÌCIO 5\n",
        "# Qual o salário médio dos passageiros?\n",
        "consulta_atividade = \"SELECT * FROM flight_loyalty_history\"\n",
        "df_atividade = pd.read_sql_query(consulta_atividade, conn)\n",
        "df_atividade.loc[:, 'salary'].mean()"
      ],
      "metadata": {
        "colab": {
          "base_uri": "https://localhost:8080/"
        },
        "id": "TyzrFmpVt0dQ",
        "outputId": "0f0c0eba-90e4-4a79-af00-8b2908560a46"
      },
      "execution_count": 24,
      "outputs": [
        {
          "output_type": "execute_result",
          "data": {
            "text/plain": [
              "79245.6094087527"
            ]
          },
          "metadata": {},
          "execution_count": 24
        }
      ]
    },
    {
      "cell_type": "code",
      "source": [
        "# EXERCÌCIO 6\n",
        "# Qual o valor total de pontos acumulados?\n",
        "consulta_atividade = \"SELECT * FROM flight_activity\"\n",
        "df_atividade = pd.read_sql_query(consulta_atividade, conn)\n",
        "df_atividade.loc[:, 'points_accumulated'].sum()"
      ],
      "metadata": {
        "colab": {
          "base_uri": "https://localhost:8080/"
        },
        "id": "RYjjoe6sulPH",
        "outputId": "44058bb9-885a-4596-f758-cc63456e6af8"
      },
      "execution_count": 25,
      "outputs": [
        {
          "output_type": "execute_result",
          "data": {
            "text/plain": [
              "50172736.25"
            ]
          },
          "metadata": {},
          "execution_count": 25
        }
      ]
    }
  ]
}