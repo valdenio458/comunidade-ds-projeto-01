{
  "nbformat": 4,
  "nbformat_minor": 0,
  "metadata": {
    "colab": {
      "provenance": [],
      "collapsed_sections": [
        "HBoU1cUS12dw",
        "UNzDuZ8h2FCm"
      ]
    },
    "kernelspec": {
      "name": "python3",
      "display_name": "Python 3"
    },
    "language_info": {
      "name": "python"
    }
  },
  "cells": [
    {
      "cell_type": "markdown",
      "source": [
        "## Importando os dados"
      ],
      "metadata": {
        "id": "N_a6xQiR5keG"
      }
    },
    {
      "cell_type": "code",
      "execution_count": 77,
      "metadata": {
        "id": "HCGIBh9O4ZFq"
      },
      "outputs": [],
      "source": [
        "# abrir a conexão com o banco de dados\n",
        "import sqlite3\n",
        "import pandas as pd\n",
        "import numpy as np\n",
        "from sklearn.tree import DecisionTreeClassifier\n",
        "conn = sqlite3.connect(\"database.db\")"
      ]
    },
    {
      "cell_type": "code",
      "source": [
        "# consulta os dados no banco de dados\n",
        "consulta_atividade = \"\"\"\n",
        "\n",
        "    SELECT\n",
        "     *\n",
        "    FROM flight_activity fa LEFT JOIN flight_loyalty_history fh ON (fa.loyalty_number = fh.loyalty_number)\n",
        "    \"\"\"\n",
        "df_atividade = pd.read_sql_query(consulta_atividade, conn)"
      ],
      "metadata": {
        "id": "GRhzRma45qAM"
      },
      "execution_count": 13,
      "outputs": []
    },
    {
      "cell_type": "code",
      "source": [
        "df_atividade.head()"
      ],
      "metadata": {
        "id": "i5e9V28U7T2p",
        "colab": {
          "base_uri": "https://localhost:8080/",
          "height": 256
        },
        "outputId": "ee0f149a-c34f-4f24-9ef0-0cf6072b32e5"
      },
      "execution_count": 14,
      "outputs": [
        {
          "output_type": "execute_result",
          "data": {
            "text/plain": [
              "   loyalty_number  year  month  flights_booked  flights_with_companions  \\\n",
              "0          100018  2017      1               3                        0   \n",
              "1          100102  2017      1              10                        4   \n",
              "2          100140  2017      1               6                        0   \n",
              "3          100214  2017      1               0                        0   \n",
              "4          100272  2017      1               0                        0   \n",
              "\n",
              "   total_flights  distance  points_accumulated  points_redeemed  \\\n",
              "0              3      1521               152.0                0   \n",
              "1             14      2030               203.0                0   \n",
              "2              6      1200               120.0                0   \n",
              "3              0         0                 0.0                0   \n",
              "4              0         0                 0.0                0   \n",
              "\n",
              "   dollar_cost_points_redeemed  ...  education   salary marital_status  \\\n",
              "0                            0  ...   Bachelor  92552.0        Married   \n",
              "1                            0  ...    College      NaN         Single   \n",
              "2                            0  ...    College      NaN       Divorced   \n",
              "3                            0  ...   Bachelor  63253.0        Married   \n",
              "4                            0  ...   Bachelor  91163.0       Divorced   \n",
              "\n",
              "  loyalty_card      clv enrollment_type enrollment_year  enrollment_month  \\\n",
              "0       Aurora  7919.20        Standard            2016                 8   \n",
              "1         Nova  2887.74        Standard            2013                 3   \n",
              "2         Nova  2838.07        Standard            2016                 7   \n",
              "3         Star  4170.57        Standard            2015                 8   \n",
              "4         Star  6622.05        Standard            2014                 1   \n",
              "\n",
              "  cancellation_year cancellation_month  \n",
              "0               NaN                NaN  \n",
              "1               NaN                NaN  \n",
              "2               NaN                NaN  \n",
              "3               NaN                NaN  \n",
              "4               NaN                NaN  \n",
              "\n",
              "[5 rows x 26 columns]"
            ],
            "text/html": [
              "\n",
              "  <div id=\"df-da33e04f-00c0-40ac-ae28-4ca4fae8d719\" class=\"colab-df-container\">\n",
              "    <div>\n",
              "<style scoped>\n",
              "    .dataframe tbody tr th:only-of-type {\n",
              "        vertical-align: middle;\n",
              "    }\n",
              "\n",
              "    .dataframe tbody tr th {\n",
              "        vertical-align: top;\n",
              "    }\n",
              "\n",
              "    .dataframe thead th {\n",
              "        text-align: right;\n",
              "    }\n",
              "</style>\n",
              "<table border=\"1\" class=\"dataframe\">\n",
              "  <thead>\n",
              "    <tr style=\"text-align: right;\">\n",
              "      <th></th>\n",
              "      <th>loyalty_number</th>\n",
              "      <th>year</th>\n",
              "      <th>month</th>\n",
              "      <th>flights_booked</th>\n",
              "      <th>flights_with_companions</th>\n",
              "      <th>total_flights</th>\n",
              "      <th>distance</th>\n",
              "      <th>points_accumulated</th>\n",
              "      <th>points_redeemed</th>\n",
              "      <th>dollar_cost_points_redeemed</th>\n",
              "      <th>...</th>\n",
              "      <th>education</th>\n",
              "      <th>salary</th>\n",
              "      <th>marital_status</th>\n",
              "      <th>loyalty_card</th>\n",
              "      <th>clv</th>\n",
              "      <th>enrollment_type</th>\n",
              "      <th>enrollment_year</th>\n",
              "      <th>enrollment_month</th>\n",
              "      <th>cancellation_year</th>\n",
              "      <th>cancellation_month</th>\n",
              "    </tr>\n",
              "  </thead>\n",
              "  <tbody>\n",
              "    <tr>\n",
              "      <th>0</th>\n",
              "      <td>100018</td>\n",
              "      <td>2017</td>\n",
              "      <td>1</td>\n",
              "      <td>3</td>\n",
              "      <td>0</td>\n",
              "      <td>3</td>\n",
              "      <td>1521</td>\n",
              "      <td>152.0</td>\n",
              "      <td>0</td>\n",
              "      <td>0</td>\n",
              "      <td>...</td>\n",
              "      <td>Bachelor</td>\n",
              "      <td>92552.0</td>\n",
              "      <td>Married</td>\n",
              "      <td>Aurora</td>\n",
              "      <td>7919.20</td>\n",
              "      <td>Standard</td>\n",
              "      <td>2016</td>\n",
              "      <td>8</td>\n",
              "      <td>NaN</td>\n",
              "      <td>NaN</td>\n",
              "    </tr>\n",
              "    <tr>\n",
              "      <th>1</th>\n",
              "      <td>100102</td>\n",
              "      <td>2017</td>\n",
              "      <td>1</td>\n",
              "      <td>10</td>\n",
              "      <td>4</td>\n",
              "      <td>14</td>\n",
              "      <td>2030</td>\n",
              "      <td>203.0</td>\n",
              "      <td>0</td>\n",
              "      <td>0</td>\n",
              "      <td>...</td>\n",
              "      <td>College</td>\n",
              "      <td>NaN</td>\n",
              "      <td>Single</td>\n",
              "      <td>Nova</td>\n",
              "      <td>2887.74</td>\n",
              "      <td>Standard</td>\n",
              "      <td>2013</td>\n",
              "      <td>3</td>\n",
              "      <td>NaN</td>\n",
              "      <td>NaN</td>\n",
              "    </tr>\n",
              "    <tr>\n",
              "      <th>2</th>\n",
              "      <td>100140</td>\n",
              "      <td>2017</td>\n",
              "      <td>1</td>\n",
              "      <td>6</td>\n",
              "      <td>0</td>\n",
              "      <td>6</td>\n",
              "      <td>1200</td>\n",
              "      <td>120.0</td>\n",
              "      <td>0</td>\n",
              "      <td>0</td>\n",
              "      <td>...</td>\n",
              "      <td>College</td>\n",
              "      <td>NaN</td>\n",
              "      <td>Divorced</td>\n",
              "      <td>Nova</td>\n",
              "      <td>2838.07</td>\n",
              "      <td>Standard</td>\n",
              "      <td>2016</td>\n",
              "      <td>7</td>\n",
              "      <td>NaN</td>\n",
              "      <td>NaN</td>\n",
              "    </tr>\n",
              "    <tr>\n",
              "      <th>3</th>\n",
              "      <td>100214</td>\n",
              "      <td>2017</td>\n",
              "      <td>1</td>\n",
              "      <td>0</td>\n",
              "      <td>0</td>\n",
              "      <td>0</td>\n",
              "      <td>0</td>\n",
              "      <td>0.0</td>\n",
              "      <td>0</td>\n",
              "      <td>0</td>\n",
              "      <td>...</td>\n",
              "      <td>Bachelor</td>\n",
              "      <td>63253.0</td>\n",
              "      <td>Married</td>\n",
              "      <td>Star</td>\n",
              "      <td>4170.57</td>\n",
              "      <td>Standard</td>\n",
              "      <td>2015</td>\n",
              "      <td>8</td>\n",
              "      <td>NaN</td>\n",
              "      <td>NaN</td>\n",
              "    </tr>\n",
              "    <tr>\n",
              "      <th>4</th>\n",
              "      <td>100272</td>\n",
              "      <td>2017</td>\n",
              "      <td>1</td>\n",
              "      <td>0</td>\n",
              "      <td>0</td>\n",
              "      <td>0</td>\n",
              "      <td>0</td>\n",
              "      <td>0.0</td>\n",
              "      <td>0</td>\n",
              "      <td>0</td>\n",
              "      <td>...</td>\n",
              "      <td>Bachelor</td>\n",
              "      <td>91163.0</td>\n",
              "      <td>Divorced</td>\n",
              "      <td>Star</td>\n",
              "      <td>6622.05</td>\n",
              "      <td>Standard</td>\n",
              "      <td>2014</td>\n",
              "      <td>1</td>\n",
              "      <td>NaN</td>\n",
              "      <td>NaN</td>\n",
              "    </tr>\n",
              "  </tbody>\n",
              "</table>\n",
              "<p>5 rows × 26 columns</p>\n",
              "</div>\n",
              "    <div class=\"colab-df-buttons\">\n",
              "\n",
              "  <div class=\"colab-df-container\">\n",
              "    <button class=\"colab-df-convert\" onclick=\"convertToInteractive('df-da33e04f-00c0-40ac-ae28-4ca4fae8d719')\"\n",
              "            title=\"Convert this dataframe to an interactive table.\"\n",
              "            style=\"display:none;\">\n",
              "\n",
              "  <svg xmlns=\"http://www.w3.org/2000/svg\" height=\"24px\" viewBox=\"0 -960 960 960\">\n",
              "    <path d=\"M120-120v-720h720v720H120Zm60-500h600v-160H180v160Zm220 220h160v-160H400v160Zm0 220h160v-160H400v160ZM180-400h160v-160H180v160Zm440 0h160v-160H620v160ZM180-180h160v-160H180v160Zm440 0h160v-160H620v160Z\"/>\n",
              "  </svg>\n",
              "    </button>\n",
              "\n",
              "  <style>\n",
              "    .colab-df-container {\n",
              "      display:flex;\n",
              "      gap: 12px;\n",
              "    }\n",
              "\n",
              "    .colab-df-convert {\n",
              "      background-color: #E8F0FE;\n",
              "      border: none;\n",
              "      border-radius: 50%;\n",
              "      cursor: pointer;\n",
              "      display: none;\n",
              "      fill: #1967D2;\n",
              "      height: 32px;\n",
              "      padding: 0 0 0 0;\n",
              "      width: 32px;\n",
              "    }\n",
              "\n",
              "    .colab-df-convert:hover {\n",
              "      background-color: #E2EBFA;\n",
              "      box-shadow: 0px 1px 2px rgba(60, 64, 67, 0.3), 0px 1px 3px 1px rgba(60, 64, 67, 0.15);\n",
              "      fill: #174EA6;\n",
              "    }\n",
              "\n",
              "    .colab-df-buttons div {\n",
              "      margin-bottom: 4px;\n",
              "    }\n",
              "\n",
              "    [theme=dark] .colab-df-convert {\n",
              "      background-color: #3B4455;\n",
              "      fill: #D2E3FC;\n",
              "    }\n",
              "\n",
              "    [theme=dark] .colab-df-convert:hover {\n",
              "      background-color: #434B5C;\n",
              "      box-shadow: 0px 1px 3px 1px rgba(0, 0, 0, 0.15);\n",
              "      filter: drop-shadow(0px 1px 2px rgba(0, 0, 0, 0.3));\n",
              "      fill: #FFFFFF;\n",
              "    }\n",
              "  </style>\n",
              "\n",
              "    <script>\n",
              "      const buttonEl =\n",
              "        document.querySelector('#df-da33e04f-00c0-40ac-ae28-4ca4fae8d719 button.colab-df-convert');\n",
              "      buttonEl.style.display =\n",
              "        google.colab.kernel.accessAllowed ? 'block' : 'none';\n",
              "\n",
              "      async function convertToInteractive(key) {\n",
              "        const element = document.querySelector('#df-da33e04f-00c0-40ac-ae28-4ca4fae8d719');\n",
              "        const dataTable =\n",
              "          await google.colab.kernel.invokeFunction('convertToInteractive',\n",
              "                                                    [key], {});\n",
              "        if (!dataTable) return;\n",
              "\n",
              "        const docLinkHtml = 'Like what you see? Visit the ' +\n",
              "          '<a target=\"_blank\" href=https://colab.research.google.com/notebooks/data_table.ipynb>data table notebook</a>'\n",
              "          + ' to learn more about interactive tables.';\n",
              "        element.innerHTML = '';\n",
              "        dataTable['output_type'] = 'display_data';\n",
              "        await google.colab.output.renderOutput(dataTable, element);\n",
              "        const docLink = document.createElement('div');\n",
              "        docLink.innerHTML = docLinkHtml;\n",
              "        element.appendChild(docLink);\n",
              "      }\n",
              "    </script>\n",
              "  </div>\n",
              "\n",
              "\n",
              "<div id=\"df-ceff87f4-feef-4c78-8339-8f0ee913243d\">\n",
              "  <button class=\"colab-df-quickchart\" onclick=\"quickchart('df-ceff87f4-feef-4c78-8339-8f0ee913243d')\"\n",
              "            title=\"Suggest charts\"\n",
              "            style=\"display:none;\">\n",
              "\n",
              "<svg xmlns=\"http://www.w3.org/2000/svg\" height=\"24px\"viewBox=\"0 0 24 24\"\n",
              "     width=\"24px\">\n",
              "    <g>\n",
              "        <path d=\"M19 3H5c-1.1 0-2 .9-2 2v14c0 1.1.9 2 2 2h14c1.1 0 2-.9 2-2V5c0-1.1-.9-2-2-2zM9 17H7v-7h2v7zm4 0h-2V7h2v10zm4 0h-2v-4h2v4z\"/>\n",
              "    </g>\n",
              "</svg>\n",
              "  </button>\n",
              "\n",
              "<style>\n",
              "  .colab-df-quickchart {\n",
              "      --bg-color: #E8F0FE;\n",
              "      --fill-color: #1967D2;\n",
              "      --hover-bg-color: #E2EBFA;\n",
              "      --hover-fill-color: #174EA6;\n",
              "      --disabled-fill-color: #AAA;\n",
              "      --disabled-bg-color: #DDD;\n",
              "  }\n",
              "\n",
              "  [theme=dark] .colab-df-quickchart {\n",
              "      --bg-color: #3B4455;\n",
              "      --fill-color: #D2E3FC;\n",
              "      --hover-bg-color: #434B5C;\n",
              "      --hover-fill-color: #FFFFFF;\n",
              "      --disabled-bg-color: #3B4455;\n",
              "      --disabled-fill-color: #666;\n",
              "  }\n",
              "\n",
              "  .colab-df-quickchart {\n",
              "    background-color: var(--bg-color);\n",
              "    border: none;\n",
              "    border-radius: 50%;\n",
              "    cursor: pointer;\n",
              "    display: none;\n",
              "    fill: var(--fill-color);\n",
              "    height: 32px;\n",
              "    padding: 0;\n",
              "    width: 32px;\n",
              "  }\n",
              "\n",
              "  .colab-df-quickchart:hover {\n",
              "    background-color: var(--hover-bg-color);\n",
              "    box-shadow: 0 1px 2px rgba(60, 64, 67, 0.3), 0 1px 3px 1px rgba(60, 64, 67, 0.15);\n",
              "    fill: var(--button-hover-fill-color);\n",
              "  }\n",
              "\n",
              "  .colab-df-quickchart-complete:disabled,\n",
              "  .colab-df-quickchart-complete:disabled:hover {\n",
              "    background-color: var(--disabled-bg-color);\n",
              "    fill: var(--disabled-fill-color);\n",
              "    box-shadow: none;\n",
              "  }\n",
              "\n",
              "  .colab-df-spinner {\n",
              "    border: 2px solid var(--fill-color);\n",
              "    border-color: transparent;\n",
              "    border-bottom-color: var(--fill-color);\n",
              "    animation:\n",
              "      spin 1s steps(1) infinite;\n",
              "  }\n",
              "\n",
              "  @keyframes spin {\n",
              "    0% {\n",
              "      border-color: transparent;\n",
              "      border-bottom-color: var(--fill-color);\n",
              "      border-left-color: var(--fill-color);\n",
              "    }\n",
              "    20% {\n",
              "      border-color: transparent;\n",
              "      border-left-color: var(--fill-color);\n",
              "      border-top-color: var(--fill-color);\n",
              "    }\n",
              "    30% {\n",
              "      border-color: transparent;\n",
              "      border-left-color: var(--fill-color);\n",
              "      border-top-color: var(--fill-color);\n",
              "      border-right-color: var(--fill-color);\n",
              "    }\n",
              "    40% {\n",
              "      border-color: transparent;\n",
              "      border-right-color: var(--fill-color);\n",
              "      border-top-color: var(--fill-color);\n",
              "    }\n",
              "    60% {\n",
              "      border-color: transparent;\n",
              "      border-right-color: var(--fill-color);\n",
              "    }\n",
              "    80% {\n",
              "      border-color: transparent;\n",
              "      border-right-color: var(--fill-color);\n",
              "      border-bottom-color: var(--fill-color);\n",
              "    }\n",
              "    90% {\n",
              "      border-color: transparent;\n",
              "      border-bottom-color: var(--fill-color);\n",
              "    }\n",
              "  }\n",
              "</style>\n",
              "\n",
              "  <script>\n",
              "    async function quickchart(key) {\n",
              "      const quickchartButtonEl =\n",
              "        document.querySelector('#' + key + ' button');\n",
              "      quickchartButtonEl.disabled = true;  // To prevent multiple clicks.\n",
              "      quickchartButtonEl.classList.add('colab-df-spinner');\n",
              "      try {\n",
              "        const charts = await google.colab.kernel.invokeFunction(\n",
              "            'suggestCharts', [key], {});\n",
              "      } catch (error) {\n",
              "        console.error('Error during call to suggestCharts:', error);\n",
              "      }\n",
              "      quickchartButtonEl.classList.remove('colab-df-spinner');\n",
              "      quickchartButtonEl.classList.add('colab-df-quickchart-complete');\n",
              "    }\n",
              "    (() => {\n",
              "      let quickchartButtonEl =\n",
              "        document.querySelector('#df-ceff87f4-feef-4c78-8339-8f0ee913243d button');\n",
              "      quickchartButtonEl.style.display =\n",
              "        google.colab.kernel.accessAllowed ? 'block' : 'none';\n",
              "    })();\n",
              "  </script>\n",
              "</div>\n",
              "\n",
              "    </div>\n",
              "  </div>\n"
            ]
          },
          "metadata": {},
          "execution_count": 14
        }
      ]
    },
    {
      "cell_type": "markdown",
      "source": [
        "## JOIN"
      ],
      "metadata": {
        "id": "HBoU1cUS12dw"
      }
    },
    {
      "cell_type": "code",
      "source": [
        "consulta_atividade = \"\"\"\n",
        "  SELECT\n",
        "    fh.loyalty_number,\n",
        "    fh.country,\n",
        "    fh.city,\n",
        "    fa.year,\n",
        "    fa.month,\n",
        "    fa.flights_booked\n",
        "\n",
        "  FROM\n",
        "    flight_loyalty_history fh JOIN flight_activity fa ON (fh.loyalty_number = fa.loyalty_number)\n",
        "\n",
        "\n",
        "\"\"\"\n",
        "df_atividade = pd.read_sql_query(consulta_atividade, conn)\n",
        "df_atividade.head()"
      ],
      "metadata": {
        "id": "V-LIJMHj8pN4"
      },
      "execution_count": null,
      "outputs": []
    },
    {
      "cell_type": "code",
      "source": [
        "df_atividade.info()"
      ],
      "metadata": {
        "id": "tNhcpYBI7XPl"
      },
      "execution_count": null,
      "outputs": []
    },
    {
      "cell_type": "code",
      "source": [
        "df_atividade.shape"
      ],
      "metadata": {
        "id": "59Ajnsum7-rH"
      },
      "execution_count": null,
      "outputs": []
    },
    {
      "cell_type": "markdown",
      "source": [
        "## Exercícios da Aula 02"
      ],
      "metadata": {
        "id": "UNzDuZ8h2FCm"
      }
    },
    {
      "cell_type": "code",
      "source": [
        "# EXERCÍCIO 1\n",
        "# selecionar o número do cartão de fidelidade, a cidade e o\n",
        "# gênero dos passageiros que tem o cartão Star mas nunca realizaram\n",
        "# nenhuma viagem\n",
        "consulta_atividade = \"\"\"\n",
        "\n",
        "     SELECT\n",
        "      fa.loyalty_number,\n",
        "      fa.distance,\n",
        "      fh.city,\n",
        "      fh.gender,\n",
        "      fh.loyalty_card\n",
        "     FROM\n",
        "      flight_activity fa LEFT JOIN flight_loyalty_history fh ON (fh.loyalty_number = fa.loyalty_number)\n",
        "     WHERE\n",
        "        loyalty_card == 'Star' AND distance == 0\n",
        "     \"\"\"\n",
        "df_atividade = pd.read_sql_query(consulta_atividade, conn)\n",
        "df_atividade"
      ],
      "metadata": {
        "id": "pskgcsQG2JeJ"
      },
      "execution_count": null,
      "outputs": []
    },
    {
      "cell_type": "code",
      "source": [
        "# EXERCÌCIO 2\n",
        "# selecionar os números do cartão de fidelidade, o gênero e a cidade de todos os\n",
        "# passageiros do sexo feminino que moram na cidade de Toronto, fizeram mais de 30\n",
        "# viagens no total e tem o cartão de fidelidade do tipo Aurora.\n",
        "consulta_atividade = \"\"\"\n",
        "\n",
        "     SELECT\n",
        "      fa.loyalty_number,\n",
        "      fh.gender,\n",
        "      fh.city,\n",
        "      fa.total_flights,\n",
        "      fh.loyalty_card\n",
        "     FROM\n",
        "      flight_activity fa LEFT JOIN flight_loyalty_history fh\n",
        "      ON (fh.loyalty_number = fa.loyalty_number)\n",
        "     WHERE\n",
        "        gender == 'Female'\n",
        "        AND city == 'Toronto'\n",
        "        AND total_flights == 30\n",
        "        AND loyalty_card == 'Aurora'\n",
        "     \"\"\"\n",
        "df_atividade = pd.read_sql_query(consulta_atividade, conn)\n",
        "df_atividade"
      ],
      "metadata": {
        "id": "GnauN8gN8rrl"
      },
      "execution_count": null,
      "outputs": []
    },
    {
      "cell_type": "code",
      "source": [
        "# EXERCÌCIO 3\n",
        "# Selecionar os números do cartão de fidelidade, o tipo do cartão, o gênero e os\n",
        "# pontos acumulados, dos passageiros com salário acima de 13200, estado civil como\n",
        "# casado e nível acadêmico como mestrado e número de voos agendados igual ao\n",
        "# número total de voos.\n",
        "consulta_atividade = \"\"\"\n",
        "\n",
        "     SELECT\n",
        "      fa.loyalty_number,\n",
        "      fh.loyalty_card,\n",
        "      fh.gender,\n",
        "      fa.points_accumulated\n",
        "\n",
        "     FROM\n",
        "      flight_activity fa LEFT JOIN flight_loyalty_history fh\n",
        "      ON (fh.loyalty_number = fa.loyalty_number)\n",
        "     WHERE\n",
        "        salary > 13200\n",
        "        AND marital_status == 'Married'\n",
        "        AND education == 'Master'\n",
        "        AND flights_booked = total_flights\n",
        "     \"\"\"\n",
        "df_atividade = pd.read_sql_query(consulta_atividade, conn)\n",
        "df_atividade"
      ],
      "metadata": {
        "id": "m_j_D9jPn2fA"
      },
      "execution_count": null,
      "outputs": []
    },
    {
      "cell_type": "code",
      "source": [
        "# EXERCÌCIO 4\n",
        "# Qual o valor da soma total da distância percorrida pelos voos registrados na\n",
        "# planilha de dados?\n",
        "\n",
        "df_atividade.loc[:, 'distance'].sum()"
      ],
      "metadata": {
        "colab": {
          "base_uri": "https://localhost:8080/"
        },
        "id": "nNbkqGH5q-Wx",
        "outputId": "237541eb-3adb-42f0-a3eb-03ce94967039"
      },
      "execution_count": null,
      "outputs": [
        {
          "output_type": "execute_result",
          "data": {
            "text/plain": [
              "490350765"
            ]
          },
          "metadata": {},
          "execution_count": 22
        }
      ]
    },
    {
      "cell_type": "code",
      "source": [
        "# EXERCÌCIO 5\n",
        "# Qual o salário médio dos passageiros?\n",
        "consulta_atividade = \"SELECT * FROM flight_loyalty_history\"\n",
        "df_atividade = pd.read_sql_query(consulta_atividade, conn)\n",
        "df_atividade.loc[:, 'salary'].mean()"
      ],
      "metadata": {
        "colab": {
          "base_uri": "https://localhost:8080/"
        },
        "id": "TyzrFmpVt0dQ",
        "outputId": "0f0c0eba-90e4-4a79-af00-8b2908560a46"
      },
      "execution_count": null,
      "outputs": [
        {
          "output_type": "execute_result",
          "data": {
            "text/plain": [
              "79245.6094087527"
            ]
          },
          "metadata": {},
          "execution_count": 24
        }
      ]
    },
    {
      "cell_type": "code",
      "source": [
        "# EXERCÌCIO 6\n",
        "# Qual o valor total de pontos acumulados?\n",
        "consulta_atividade = \"SELECT * FROM flight_activity\"\n",
        "df_atividade = pd.read_sql_query(consulta_atividade, conn)\n",
        "df_atividade.loc[:, 'points_accumulated'].sum()"
      ],
      "metadata": {
        "colab": {
          "base_uri": "https://localhost:8080/"
        },
        "id": "RYjjoe6sulPH",
        "outputId": "44058bb9-885a-4596-f758-cc63456e6af8"
      },
      "execution_count": null,
      "outputs": [
        {
          "output_type": "execute_result",
          "data": {
            "text/plain": [
              "50172736.25"
            ]
          },
          "metadata": {},
          "execution_count": 25
        }
      ]
    },
    {
      "cell_type": "markdown",
      "source": [],
      "metadata": {
        "id": "A9wPxovD-GlD"
      }
    },
    {
      "cell_type": "markdown",
      "source": [
        "## Preparação dos dados"
      ],
      "metadata": {
        "id": "qmvhRAar-JwY"
      }
    },
    {
      "cell_type": "code",
      "source": [
        "# Verifica o número de dados faltantes em cada coluna\n",
        "df_atividade.isna().sum()"
      ],
      "metadata": {
        "id": "u1q0b8mE-Pt9"
      },
      "execution_count": null,
      "outputs": []
    },
    {
      "cell_type": "code",
      "source": [
        "df_atividade.info()"
      ],
      "metadata": {
        "id": "8vamG65CCXsa"
      },
      "execution_count": null,
      "outputs": []
    },
    {
      "cell_type": "code",
      "source": [
        "# Selecionar somente as colunas numéricas\n",
        "colunas = [\"year\",\"month\",\"flights_booked\", \"flights_with_companions\", \"total_flights\",\n",
        "           \"distance\", \"points_accumulated\", \"salary\", \"clv\", \"loyalty_card\"]\n",
        "df_colunas_numericas = df_atividade.loc[:, colunas]"
      ],
      "metadata": {
        "id": "LimZbogvBqNd"
      },
      "execution_count": 24,
      "outputs": []
    },
    {
      "cell_type": "code",
      "source": [
        "# Verifica o número de dados faltantes nas colunas numéricas\n",
        "df_colunas_numericas.isna().sum()"
      ],
      "metadata": {
        "id": "qVM-o3xDCGIv"
      },
      "execution_count": null,
      "outputs": []
    },
    {
      "cell_type": "code",
      "source": [
        "# Remover as linhas que contém dados faltantes\n",
        "df_dados_completos = df_colunas_numericas.dropna()"
      ],
      "metadata": {
        "id": "NzKSV-4GGeIc"
      },
      "execution_count": 29,
      "outputs": []
    },
    {
      "cell_type": "code",
      "source": [
        "# Favor nova verificação nos dados completos\n",
        "df_dados_completos.isna().sum()"
      ],
      "metadata": {
        "id": "BsT55w0_F-FC"
      },
      "execution_count": null,
      "outputs": []
    },
    {
      "cell_type": "code",
      "source": [
        "df_dados_completos.shape"
      ],
      "metadata": {
        "colab": {
          "base_uri": "https://localhost:8080/"
        },
        "id": "i486vycgHKA4",
        "outputId": "2ba320d7-9439-4271-e703-47d910893427"
      },
      "execution_count": 49,
      "outputs": [
        {
          "output_type": "execute_result",
          "data": {
            "text/plain": [
              "(302952, 10)"
            ]
          },
          "metadata": {},
          "execution_count": 49
        }
      ]
    },
    {
      "cell_type": "markdown",
      "source": [
        "## Machile Learning"
      ],
      "metadata": {
        "id": "48qUFd6-H4pm"
      }
    },
    {
      "cell_type": "code",
      "source": [
        "from sklearn import tree as tr\n",
        "\n",
        "# Definição do algoritmo\n",
        "modelo = tr.DecisionTreeClassifier(max_depth=2)"
      ],
      "metadata": {
        "id": "YVv2895MH8qe"
      },
      "execution_count": 36,
      "outputs": []
    },
    {
      "cell_type": "code",
      "source": [
        "# Treinamento do algoritmo\n",
        "X_atributos = df_dados_completos.drop(columns=\"loyalty_card\")\n",
        "y_rotulos = df_dados_completos.loc[:, \"loyalty_card\"]\n",
        "modelo_treinado = modelo.fit(X_atributos, y_rotulos)"
      ],
      "metadata": {
        "id": "b3ECAldpPblg"
      },
      "execution_count": 47,
      "outputs": []
    },
    {
      "cell_type": "code",
      "source": [
        "X_atributos"
      ],
      "metadata": {
        "id": "fkawPsiVQk0o"
      },
      "execution_count": null,
      "outputs": []
    },
    {
      "cell_type": "code",
      "source": [
        "y_rotulos"
      ],
      "metadata": {
        "id": "03foVtJ2ROAW"
      },
      "execution_count": null,
      "outputs": []
    },
    {
      "cell_type": "code",
      "source": [
        "tr.plot_tree(modelo_treinado, filled=True)"
      ],
      "metadata": {
        "id": "BPw6awa6RyvE"
      },
      "execution_count": null,
      "outputs": []
    },
    {
      "cell_type": "markdown",
      "source": [
        "## Apresentando o resultado"
      ],
      "metadata": {
        "id": "_K9WuZaU4Fk0"
      }
    },
    {
      "cell_type": "code",
      "source": [
        "X_novo = X_atributos.sample()\n",
        "previsao = (modelo_treinado.predict_proba(X_novo)) * 100\n",
        "\n",
        "print(f\"Aurora: {previsao[0][0]:.2f}% - Nova: {previsao[0][1]:.2f}% -  Start: {previsao[0][2]:.2f}%\")"
      ],
      "metadata": {
        "colab": {
          "base_uri": "https://localhost:8080/"
        },
        "id": "SSLSBjac4JTJ",
        "outputId": "45ad647d-189e-4fa7-d2ec-9978d265174f"
      },
      "execution_count": 81,
      "outputs": [
        {
          "output_type": "stream",
          "name": "stdout",
          "text": [
            "Aurora: 0.00% - Nova: 51.25% -  Start: 48.75%\n"
          ]
        }
      ]
    },
    {
      "cell_type": "markdown",
      "source": [
        "## Painel de Visualização"
      ],
      "metadata": {
        "id": "0C015Ata-L3i"
      }
    },
    {
      "cell_type": "code",
      "source": [
        "!pip install gradio"
      ],
      "metadata": {
        "id": "bC9f3rX2AVdP"
      },
      "execution_count": null,
      "outputs": []
    },
    {
      "cell_type": "code",
      "source": [
        "import gradio as gr"
      ],
      "metadata": {
        "id": "8ILEcjbt-Po2"
      },
      "execution_count": 85,
      "outputs": []
    },
    {
      "cell_type": "code",
      "source": [
        "with gr.Blocks() as demo:\n",
        "  # Título do painel\n",
        "  gr.Markdown(\"\"\" # Propensao de compra \"\"\")\n",
        "\n",
        "  with gr.Row():\n",
        "    with gr.Column():\n",
        "      gr.Markdown(\"\"\" # Coluna 1 \"\"\")\n",
        "\n",
        "      with gr.Row():\n",
        "        gr.Markdown(\"\"\" # Linha 1 \"\"\")\n",
        "\n",
        "    with gr.Column():\n",
        "      gr.Markdown(\"\"\" # Coluna 2 \"\"\")\n",
        "  # Botao predict\n",
        "  # predict_btn.click()\n",
        "\n",
        "demo.launch(debug=True, share=False)"
      ],
      "metadata": {
        "colab": {
          "base_uri": "https://localhost:8080/",
          "height": 653
        },
        "id": "qA_d0bpwAtKI",
        "outputId": "6804ff11-8c9b-482f-dc90-1d37e874cf6b"
      },
      "execution_count": 88,
      "outputs": [
        {
          "output_type": "stream",
          "name": "stdout",
          "text": [
            "Colab notebook detected. This cell will run indefinitely so that you can see errors and logs. To turn off, set debug=False in launch().\n",
            "Note: opening Chrome Inspector may crash demo inside Colab notebooks.\n",
            "\n",
            "To create a public link, set `share=True` in `launch()`.\n"
          ]
        },
        {
          "output_type": "display_data",
          "data": {
            "text/plain": [
              "<IPython.core.display.Javascript object>"
            ],
            "application/javascript": [
              "(async (port, path, width, height, cache, element) => {\n",
              "                        if (!google.colab.kernel.accessAllowed && !cache) {\n",
              "                            return;\n",
              "                        }\n",
              "                        element.appendChild(document.createTextNode(''));\n",
              "                        const url = await google.colab.kernel.proxyPort(port, {cache});\n",
              "\n",
              "                        const external_link = document.createElement('div');\n",
              "                        external_link.innerHTML = `\n",
              "                            <div style=\"font-family: monospace; margin-bottom: 0.5rem\">\n",
              "                                Running on <a href=${new URL(path, url).toString()} target=\"_blank\">\n",
              "                                    https://localhost:${port}${path}\n",
              "                                </a>\n",
              "                            </div>\n",
              "                        `;\n",
              "                        element.appendChild(external_link);\n",
              "\n",
              "                        const iframe = document.createElement('iframe');\n",
              "                        iframe.src = new URL(path, url).toString();\n",
              "                        iframe.height = height;\n",
              "                        iframe.allow = \"autoplay; camera; microphone; clipboard-read; clipboard-write;\"\n",
              "                        iframe.width = width;\n",
              "                        iframe.style.border = 0;\n",
              "                        element.appendChild(iframe);\n",
              "                    })(7860, \"/\", \"100%\", 500, false, window.element)"
            ]
          },
          "metadata": {}
        },
        {
          "output_type": "stream",
          "name": "stdout",
          "text": [
            "Keyboard interruption in main thread... closing server.\n"
          ]
        },
        {
          "output_type": "execute_result",
          "data": {
            "text/plain": []
          },
          "metadata": {},
          "execution_count": 88
        }
      ]
    }
  ]
}