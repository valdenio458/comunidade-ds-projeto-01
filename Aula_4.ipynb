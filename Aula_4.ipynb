{
  "nbformat": 4,
  "nbformat_minor": 0,
  "metadata": {
    "colab": {
      "provenance": [],
      "collapsed_sections": [
        "HBoU1cUS12dw",
        "UNzDuZ8h2FCm"
      ]
    },
    "kernelspec": {
      "name": "python3",
      "display_name": "Python 3"
    },
    "language_info": {
      "name": "python"
    }
  },
  "cells": [
    {
      "cell_type": "markdown",
      "source": [
        "## Importando os dados"
      ],
      "metadata": {
        "id": "N_a6xQiR5keG"
      }
    },
    {
      "cell_type": "code",
      "execution_count": 1,
      "metadata": {
        "id": "HCGIBh9O4ZFq"
      },
      "outputs": [],
      "source": [
        "# abrir a conexão com o banco de dados\n",
        "import sqlite3\n",
        "import pandas as pd\n",
        "import numpy as np\n",
        "from sklearn.tree import DecisionTreeClassifier\n",
        "conn = sqlite3.connect(\"database.db\")"
      ]
    },
    {
      "cell_type": "code",
      "source": [
        "# consulta os dados no banco de dados\n",
        "consulta_atividade = \"\"\"\n",
        "\n",
        "    SELECT\n",
        "     *\n",
        "    FROM flight_activity fa LEFT JOIN flight_loyalty_history fh ON (fa.loyalty_number = fh.loyalty_number)\n",
        "    \"\"\"\n",
        "df_atividade = pd.read_sql_query(consulta_atividade, conn)"
      ],
      "metadata": {
        "id": "GRhzRma45qAM"
      },
      "execution_count": 2,
      "outputs": []
    },
    {
      "cell_type": "code",
      "source": [
        "df_atividade.head()"
      ],
      "metadata": {
        "id": "i5e9V28U7T2p"
      },
      "execution_count": null,
      "outputs": []
    },
    {
      "cell_type": "markdown",
      "source": [
        "## JOIN"
      ],
      "metadata": {
        "id": "HBoU1cUS12dw"
      }
    },
    {
      "cell_type": "code",
      "source": [
        "consulta_atividade = \"\"\"\n",
        "  SELECT\n",
        "    fh.loyalty_number,\n",
        "    fh.country,\n",
        "    fh.city,\n",
        "    fa.year,\n",
        "    fa.month,\n",
        "    fa.flights_booked\n",
        "\n",
        "  FROM\n",
        "    flight_loyalty_history fh JOIN flight_activity fa ON (fh.loyalty_number = fa.loyalty_number)\n",
        "\n",
        "\n",
        "\"\"\"\n",
        "df_atividade = pd.read_sql_query(consulta_atividade, conn)\n",
        "df_atividade.head()"
      ],
      "metadata": {
        "id": "V-LIJMHj8pN4"
      },
      "execution_count": null,
      "outputs": []
    },
    {
      "cell_type": "code",
      "source": [
        "df_atividade.info()"
      ],
      "metadata": {
        "id": "tNhcpYBI7XPl"
      },
      "execution_count": null,
      "outputs": []
    },
    {
      "cell_type": "code",
      "source": [
        "df_atividade.shape"
      ],
      "metadata": {
        "id": "59Ajnsum7-rH"
      },
      "execution_count": null,
      "outputs": []
    },
    {
      "cell_type": "markdown",
      "source": [
        "## Exercícios da Aula 02"
      ],
      "metadata": {
        "id": "UNzDuZ8h2FCm"
      }
    },
    {
      "cell_type": "code",
      "source": [
        "# EXERCÍCIO 1\n",
        "# selecionar o número do cartão de fidelidade, a cidade e o\n",
        "# gênero dos passageiros que tem o cartão Star mas nunca realizaram\n",
        "# nenhuma viagem\n",
        "consulta_atividade = \"\"\"\n",
        "\n",
        "     SELECT\n",
        "      fa.loyalty_number,\n",
        "      fa.distance,\n",
        "      fh.city,\n",
        "      fh.gender,\n",
        "      fh.loyalty_card\n",
        "     FROM\n",
        "      flight_activity fa LEFT JOIN flight_loyalty_history fh ON (fh.loyalty_number = fa.loyalty_number)\n",
        "     WHERE\n",
        "        loyalty_card == 'Star' AND distance == 0\n",
        "     \"\"\"\n",
        "df_atividade = pd.read_sql_query(consulta_atividade, conn)\n",
        "df_atividade"
      ],
      "metadata": {
        "id": "pskgcsQG2JeJ"
      },
      "execution_count": null,
      "outputs": []
    },
    {
      "cell_type": "code",
      "source": [
        "# EXERCÌCIO 2\n",
        "# selecionar os números do cartão de fidelidade, o gênero e a cidade de todos os\n",
        "# passageiros do sexo feminino que moram na cidade de Toronto, fizeram mais de 30\n",
        "# viagens no total e tem o cartão de fidelidade do tipo Aurora.\n",
        "consulta_atividade = \"\"\"\n",
        "\n",
        "     SELECT\n",
        "      fa.loyalty_number,\n",
        "      fh.gender,\n",
        "      fh.city,\n",
        "      fa.total_flights,\n",
        "      fh.loyalty_card\n",
        "     FROM\n",
        "      flight_activity fa LEFT JOIN flight_loyalty_history fh\n",
        "      ON (fh.loyalty_number = fa.loyalty_number)\n",
        "     WHERE\n",
        "        gender == 'Female'\n",
        "        AND city == 'Toronto'\n",
        "        AND total_flights == 30\n",
        "        AND loyalty_card == 'Aurora'\n",
        "     \"\"\"\n",
        "df_atividade = pd.read_sql_query(consulta_atividade, conn)\n",
        "df_atividade"
      ],
      "metadata": {
        "id": "GnauN8gN8rrl"
      },
      "execution_count": null,
      "outputs": []
    },
    {
      "cell_type": "code",
      "source": [
        "# EXERCÌCIO 3\n",
        "# Selecionar os números do cartão de fidelidade, o tipo do cartão, o gênero e os\n",
        "# pontos acumulados, dos passageiros com salário acima de 13200, estado civil como\n",
        "# casado e nível acadêmico como mestrado e número de voos agendados igual ao\n",
        "# número total de voos.\n",
        "consulta_atividade = \"\"\"\n",
        "\n",
        "     SELECT\n",
        "      fa.loyalty_number,\n",
        "      fh.loyalty_card,\n",
        "      fh.gender,\n",
        "      fa.points_accumulated\n",
        "\n",
        "     FROM\n",
        "      flight_activity fa LEFT JOIN flight_loyalty_history fh\n",
        "      ON (fh.loyalty_number = fa.loyalty_number)\n",
        "     WHERE\n",
        "        salary > 13200\n",
        "        AND marital_status == 'Married'\n",
        "        AND education == 'Master'\n",
        "        AND flights_booked = total_flights\n",
        "     \"\"\"\n",
        "df_atividade = pd.read_sql_query(consulta_atividade, conn)\n",
        "df_atividade"
      ],
      "metadata": {
        "id": "m_j_D9jPn2fA"
      },
      "execution_count": null,
      "outputs": []
    },
    {
      "cell_type": "code",
      "source": [
        "# EXERCÌCIO 4\n",
        "# Qual o valor da soma total da distância percorrida pelos voos registrados na\n",
        "# planilha de dados?\n",
        "\n",
        "df_atividade.loc[:, 'distance'].sum()"
      ],
      "metadata": {
        "colab": {
          "base_uri": "https://localhost:8080/"
        },
        "id": "nNbkqGH5q-Wx",
        "outputId": "237541eb-3adb-42f0-a3eb-03ce94967039"
      },
      "execution_count": null,
      "outputs": [
        {
          "output_type": "execute_result",
          "data": {
            "text/plain": [
              "490350765"
            ]
          },
          "metadata": {},
          "execution_count": 22
        }
      ]
    },
    {
      "cell_type": "code",
      "source": [
        "# EXERCÌCIO 5\n",
        "# Qual o salário médio dos passageiros?\n",
        "consulta_atividade = \"SELECT * FROM flight_loyalty_history\"\n",
        "df_atividade = pd.read_sql_query(consulta_atividade, conn)\n",
        "df_atividade.loc[:, 'salary'].mean()"
      ],
      "metadata": {
        "colab": {
          "base_uri": "https://localhost:8080/"
        },
        "id": "TyzrFmpVt0dQ",
        "outputId": "0f0c0eba-90e4-4a79-af00-8b2908560a46"
      },
      "execution_count": null,
      "outputs": [
        {
          "output_type": "execute_result",
          "data": {
            "text/plain": [
              "79245.6094087527"
            ]
          },
          "metadata": {},
          "execution_count": 24
        }
      ]
    },
    {
      "cell_type": "code",
      "source": [
        "# EXERCÌCIO 6\n",
        "# Qual o valor total de pontos acumulados?\n",
        "consulta_atividade = \"SELECT * FROM flight_activity\"\n",
        "df_atividade = pd.read_sql_query(consulta_atividade, conn)\n",
        "df_atividade.loc[:, 'points_accumulated'].sum()"
      ],
      "metadata": {
        "colab": {
          "base_uri": "https://localhost:8080/"
        },
        "id": "RYjjoe6sulPH",
        "outputId": "44058bb9-885a-4596-f758-cc63456e6af8"
      },
      "execution_count": null,
      "outputs": [
        {
          "output_type": "execute_result",
          "data": {
            "text/plain": [
              "50172736.25"
            ]
          },
          "metadata": {},
          "execution_count": 25
        }
      ]
    },
    {
      "cell_type": "markdown",
      "source": [],
      "metadata": {
        "id": "A9wPxovD-GlD"
      }
    },
    {
      "cell_type": "markdown",
      "source": [
        "## Preparação dos dados"
      ],
      "metadata": {
        "id": "qmvhRAar-JwY"
      }
    },
    {
      "cell_type": "code",
      "source": [
        "# Verifica o número de dados faltantes em cada coluna\n",
        "df_atividade.isna().sum()"
      ],
      "metadata": {
        "id": "u1q0b8mE-Pt9"
      },
      "execution_count": null,
      "outputs": []
    },
    {
      "cell_type": "code",
      "source": [
        "df_atividade.info()"
      ],
      "metadata": {
        "id": "8vamG65CCXsa"
      },
      "execution_count": null,
      "outputs": []
    },
    {
      "cell_type": "code",
      "source": [
        "# Selecionar somente as colunas numéricas\n",
        "colunas = [\"year\",\"month\",\"flights_booked\", \"flights_with_companions\", \"total_flights\",\n",
        "           \"distance\", \"points_accumulated\", \"salary\", \"clv\", \"loyalty_card\"]\n",
        "df_colunas_numericas = df_atividade.loc[:, colunas]"
      ],
      "metadata": {
        "id": "LimZbogvBqNd"
      },
      "execution_count": 4,
      "outputs": []
    },
    {
      "cell_type": "code",
      "source": [
        "# Verifica o número de dados faltantes nas colunas numéricas\n",
        "df_colunas_numericas.isna().sum()"
      ],
      "metadata": {
        "id": "qVM-o3xDCGIv"
      },
      "execution_count": null,
      "outputs": []
    },
    {
      "cell_type": "code",
      "source": [
        "# Remover as linhas que contém dados faltantes\n",
        "df_dados_completos = df_colunas_numericas.dropna()"
      ],
      "metadata": {
        "id": "NzKSV-4GGeIc"
      },
      "execution_count": 6,
      "outputs": []
    },
    {
      "cell_type": "code",
      "source": [
        "# Favor nova verificação nos dados completos\n",
        "df_dados_completos.isna().sum()"
      ],
      "metadata": {
        "id": "BsT55w0_F-FC"
      },
      "execution_count": null,
      "outputs": []
    },
    {
      "cell_type": "code",
      "source": [
        "df_dados_completos.shape"
      ],
      "metadata": {
        "colab": {
          "base_uri": "https://localhost:8080/"
        },
        "id": "i486vycgHKA4",
        "outputId": "25d19ac5-af20-434d-b3cd-4fcb9a67da31"
      },
      "execution_count": 9,
      "outputs": [
        {
          "output_type": "execute_result",
          "data": {
            "text/plain": [
              "(302952, 10)"
            ]
          },
          "metadata": {},
          "execution_count": 9
        }
      ]
    },
    {
      "cell_type": "markdown",
      "source": [
        "## Machile Learning"
      ],
      "metadata": {
        "id": "48qUFd6-H4pm"
      }
    },
    {
      "cell_type": "code",
      "source": [
        "from sklearn import tree as tr\n",
        "\n",
        "# Definição do algoritmo\n",
        "modelo = tr.DecisionTreeClassifier(max_depth=2)"
      ],
      "metadata": {
        "id": "YVv2895MH8qe"
      },
      "execution_count": 10,
      "outputs": []
    },
    {
      "cell_type": "code",
      "source": [
        "# Treinamento do algoritmo\n",
        "X_atributos = df_dados_completos.drop(columns=\"loyalty_card\")\n",
        "y_rotulos = df_dados_completos.loc[:, \"loyalty_card\"]\n",
        "modelo_treinado = modelo.fit(X_atributos, y_rotulos)"
      ],
      "metadata": {
        "id": "b3ECAldpPblg"
      },
      "execution_count": 11,
      "outputs": []
    },
    {
      "cell_type": "code",
      "source": [
        "X_atributos"
      ],
      "metadata": {
        "id": "fkawPsiVQk0o"
      },
      "execution_count": null,
      "outputs": []
    },
    {
      "cell_type": "code",
      "source": [
        "y_rotulos"
      ],
      "metadata": {
        "id": "03foVtJ2ROAW"
      },
      "execution_count": null,
      "outputs": []
    },
    {
      "cell_type": "code",
      "source": [
        "tr.plot_tree(modelo_treinado, filled=True)"
      ],
      "metadata": {
        "id": "BPw6awa6RyvE",
        "colab": {
          "base_uri": "https://localhost:8080/",
          "height": 510
        },
        "outputId": "a3ae3c06-6b85-4ad0-a43d-1db6f15f56c5"
      },
      "execution_count": 14,
      "outputs": [
        {
          "output_type": "execute_result",
          "data": {
            "text/plain": [
              "[Text(0.4, 0.8333333333333334, 'x[8] <= 2739.87\\ngini = 0.641\\nsamples = 302952\\nvalue = [64512, 105288, 133152]'),\n",
              " Text(0.2, 0.5, 'gini = 0.0\\nsamples = 32232\\nvalue = [0, 0, 32232]'),\n",
              " Text(0.6, 0.5, 'x[8] <= 4936.925\\ngini = 0.653\\nsamples = 270720\\nvalue = [64512, 105288, 100920]'),\n",
              " Text(0.4, 0.16666666666666666, 'gini = 0.5\\nsamples = 74040\\nvalue = [0, 37944, 36096]'),\n",
              " Text(0.8, 0.16666666666666666, 'gini = 0.667\\nsamples = 196680\\nvalue = [64512, 67344, 64824]')]"
            ]
          },
          "metadata": {},
          "execution_count": 14
        },
        {
          "output_type": "display_data",
          "data": {
            "text/plain": [
              "<Figure size 640x480 with 1 Axes>"
            ],
            "image/png": "[encoded data removed]"
          },
          "metadata": {}
        }
      ]
    },
    {
      "cell_type": "markdown",
      "source": [
        "## Apresentando o resultado"
      ],
      "metadata": {
        "id": "_K9WuZaU4Fk0"
      }
    },
    {
      "cell_type": "code",
      "source": [
        "X_novo = X_atributos.sample()\n",
        "previsao = (modelo_treinado.predict_proba(X_novo)) * 100\n",
        "\n",
        "print(f\"Aurora: {previsao[0][0]:.2f}% - Nova: {previsao[0][1]:.2f}% -  Start: {previsao[0][2]:.2f}%\")"
      ],
      "metadata": {
        "colab": {
          "base_uri": "https://localhost:8080/"
        },
        "id": "SSLSBjac4JTJ",
        "outputId": "84ad2dcb-b3ca-4e94-da74-c8fd48e5c8c0"
      },
      "execution_count": 34,
      "outputs": [
        {
          "output_type": "stream",
          "name": "stdout",
          "text": [
            "Aurora: 32.80% - Nova: 34.24% -  Start: 32.96%\n"
          ]
        }
      ]
    },
    {
      "cell_type": "markdown",
      "source": [
        "## Painel de Visualização"
      ],
      "metadata": {
        "id": "0C015Ata-L3i"
      }
    },
    {
      "cell_type": "code",
      "source": [
        "!pip install gradio"
      ],
      "metadata": {
        "id": "bC9f3rX2AVdP"
      },
      "execution_count": null,
      "outputs": []
    },
    {
      "cell_type": "code",
      "source": [
        "import gradio as gr"
      ],
      "metadata": {
        "id": "8ILEcjbt-Po2"
      },
      "execution_count": 49,
      "outputs": []
    },
    {
      "cell_type": "code",
      "source": [
        "X_atributos.loc[:, 'salary'].max()"
      ],
      "metadata": {
        "colab": {
          "base_uri": "https://localhost:8080/"
        },
        "id": "0xpPIzeuD__E",
        "outputId": "50e309dd-9aa3-413b-aeaf-543d47e15a6e"
      },
      "execution_count": 64,
      "outputs": [
        {
          "output_type": "execute_result",
          "data": {
            "text/plain": [
              "407228.0"
            ]
          },
          "metadata": {},
          "execution_count": 64
        }
      ]
    },
    {
      "cell_type": "code",
      "source": [
        "def predict(*args):\n",
        "  X_novo = np.array([args]).reshape(1, -1)\n",
        "  previsao = (modelo_treinado.predict_proba(X_novo))\n",
        "\n",
        "  return {\"Aurora\":previsao[0][0], \"Nova\":previsao[0][1], \"Star\":previsao[0][2]}\n",
        "\n",
        "\n",
        "\n",
        "with gr.Blocks() as demo:\n",
        "  # Título do painel\n",
        "  gr.Markdown(\"\"\" # Propensao de compra \"\"\")\n",
        "\n",
        "  with gr.Row():\n",
        "    with gr.Column():\n",
        "      gr.Markdown(\"\"\" # Atributos do Cliente \"\"\")\n",
        "      year = gr.Slider(label=\"year\", minimum=2017, maximum=2018, step=1, randomize=True)\n",
        "      month = gr.Slider(label=\"month\", minimum=1, maximum=12, step=1, randomize=True)\n",
        "      flights_booked = gr.Slider(label=\"flights_bookedr\", minimum=0, maximum=21, step=1, randomize=True)\n",
        "      fligts_with_companions = gr.Slider(label=\"flights_with_companions\", minimum=0, maximum=11, step=1, randomize=True)\n",
        "      total_fligts = gr.Slider(label=\"total_flights\", minimum=0, maximum=32, step=1, randomize=True)\n",
        "      distance = gr.Slider(label=\"distance\", minimum=0, maximum=6293, step=1, randomize=True)\n",
        "      points_accumulated = gr.Slider(label=\"points_accumulated\", minimum=0.00, maximum=676.5, step=1, randomize=True)\n",
        "      salary = gr.Slider(label=\"salary\", minimum=-58486.00, maximum=407228.0, step=1000, randomize=True)\n",
        "      clv = gr.Slider(label=\"clv\", minimum=2119.89, maximum=83325.38, step=1, randomize=True)\n",
        "\n",
        "      with gr.Row():\n",
        "        gr.Markdown(\"\"\" # Botão de Previsão \"\"\")\n",
        "        predict_btn = gr.Button(value=\"Previsao\")\n",
        "\n",
        "    with gr.Column():\n",
        "      gr.Markdown(\"\"\" # Propensão de Compra do Cliente \"\"\")\n",
        "      label = gr.Label()\n",
        "\n",
        "  # Botao predict\n",
        "  predict_btn.click(\n",
        "      fn=predict,\n",
        "      inputs=[\n",
        "          year,\n",
        "          month,\n",
        "          flights_booked,\n",
        "          fligts_with_companions,\n",
        "          total_fligts,\n",
        "          distance,\n",
        "          points_accumulated,\n",
        "          salary,\n",
        "          clv\n",
        "      ],\n",
        "      outputs=[label]\n",
        "      )\n",
        "\n",
        "demo.launch(debug=True, share=False)"
      ],
      "metadata": {
        "colab": {
          "base_uri": "https://localhost:8080/",
          "height": 862
        },
        "id": "qA_d0bpwAtKI",
        "outputId": "a1655deb-e979-40ed-d090-aed62774c7fa"
      },
      "execution_count": 65,
      "outputs": [
        {
          "output_type": "stream",
          "name": "stdout",
          "text": [
            "Colab notebook detected. This cell will run indefinitely so that you can see errors and logs. To turn off, set debug=False in launch().\n",
            "Note: opening Chrome Inspector may crash demo inside Colab notebooks.\n",
            "\n",
            "To create a public link, set `share=True` in `launch()`.\n"
          ]
        },
        {
          "output_type": "display_data",
          "data": {
            "text/plain": [
              "<IPython.core.display.Javascript object>"
            ],
            "application/javascript": [
              "(async (port, path, width, height, cache, element) => {\n",
              "                        if (!google.colab.kernel.accessAllowed && !cache) {\n",
              "                            return;\n",
              "                        }\n",
              "                        element.appendChild(document.createTextNode(''));\n",
              "                        const url = await google.colab.kernel.proxyPort(port, {cache});\n",
              "\n",
              "                        const external_link = document.createElement('div');\n",
              "                        external_link.innerHTML = `\n",
              "                            <div style=\"font-family: monospace; margin-bottom: 0.5rem\">\n",
              "                                Running on <a href=${new URL(path, url).toString()} target=\"_blank\">\n",
              "                                    https://localhost:${port}${path}\n",
              "                                </a>\n",
              "                            </div>\n",
              "                        `;\n",
              "                        element.appendChild(external_link);\n",
              "\n",
              "                        const iframe = document.createElement('iframe');\n",
              "                        iframe.src = new URL(path, url).toString();\n",
              "                        iframe.height = height;\n",
              "                        iframe.allow = \"autoplay; camera; microphone; clipboard-read; clipboard-write;\"\n",
              "                        iframe.width = width;\n",
              "                        iframe.style.border = 0;\n",
              "                        element.appendChild(iframe);\n",
              "                    })(7860, \"/\", \"100%\", 500, false, window.element)"
            ]
          },
          "metadata": {}
        },
        {
          "output_type": "stream",
          "name": "stderr",
          "text": [
            "/usr/local/lib/python3.10/dist-packages/sklearn/base.py:439: UserWarning: X does not have valid feature names, but DecisionTreeClassifier was fitted with feature names\n",
            "  warnings.warn(\n",
            "/usr/local/lib/python3.10/dist-packages/sklearn/base.py:439: UserWarning: X does not have valid feature names, but DecisionTreeClassifier was fitted with feature names\n",
            "  warnings.warn(\n",
            "/usr/local/lib/python3.10/dist-packages/sklearn/base.py:439: UserWarning: X does not have valid feature names, but DecisionTreeClassifier was fitted with feature names\n",
            "  warnings.warn(\n",
            "/usr/local/lib/python3.10/dist-packages/sklearn/base.py:439: UserWarning: X does not have valid feature names, but DecisionTreeClassifier was fitted with feature names\n",
            "  warnings.warn(\n",
            "/usr/local/lib/python3.10/dist-packages/sklearn/base.py:439: UserWarning: X does not have valid feature names, but DecisionTreeClassifier was fitted with feature names\n",
            "  warnings.warn(\n",
            "/usr/local/lib/python3.10/dist-packages/sklearn/base.py:439: UserWarning: X does not have valid feature names, but DecisionTreeClassifier was fitted with feature names\n",
            "  warnings.warn(\n"
          ]
        },
        {
          "output_type": "stream",
          "name": "stdout",
          "text": [
            "Keyboard interruption in main thread... closing server.\n"
          ]
        },
        {
          "output_type": "execute_result",
          "data": {
            "text/plain": []
          },
          "metadata": {},
          "execution_count": 65
        }
      ]
    }
  ]
}